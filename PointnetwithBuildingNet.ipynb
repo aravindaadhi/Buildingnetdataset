{
  "nbformat": 4,
  "nbformat_minor": 0,
  "metadata": {
    "colab": {
      "name": "PointnetwithBuildingNet.ipynb",
      "provenance": [],
      "collapsed_sections": [],
      "authorship_tag": "ABX9TyMPnGpNGlmGRGQ0nvAK10M3",
      "include_colab_link": true
    },
    "kernelspec": {
      "name": "python3",
      "display_name": "Python 3"
    },
    "language_info": {
      "name": "python"
    }
  },
  "cells": [
    {
      "cell_type": "markdown",
      "metadata": {
        "id": "view-in-github",
        "colab_type": "text"
      },
      "source": [
        "<a href=\"https://colab.research.google.com/github/aravindaadhi/Buildingnetdataset/blob/main/PointnetwithBuildingNet.ipynb\" target=\"_parent\"><img src=\"https://colab.research.google.com/assets/colab-badge.svg\" alt=\"Open In Colab\"/></a>"
      ]
    },
    {
      "cell_type": "code",
      "execution_count": 1,
      "metadata": {
        "id": "8-ydt1kBSouV"
      },
      "outputs": [],
      "source": [
        "import os\n",
        "import json\n",
        "import random\n",
        "import numpy as np\n",
        "import pandas as pd\n",
        "from tqdm import tqdm\n",
        "from glob import glob\n",
        "\n",
        "import tensorflow as tf\n",
        "from tensorflow import keras\n",
        "from tensorflow.keras import layers\n",
        "\n",
        "import matplotlib.pyplot as plt"
      ]
    },
    {
      "cell_type": "code",
      "source": [
        "dataset_url = \"https://raw.githubusercontent.com/aravindaadhi/Buildingnetdataset/main/BuildingNet.zip\"\n",
        "\n",
        "dataset_path = keras.utils.get_file(\n",
        "    fname=\"buildingNet.zip\",\n",
        "    origin=dataset_url,\n",
        "    cache_subdir=\"datasets\",\n",
        "    hash_algorithm=\"auto\",\n",
        "    extract=True,\n",
        "    archive_format=\"auto\",\n",
        "    cache_dir=\"datasets\",\n",
        ")"
      ],
      "metadata": {
        "id": "UodkfBEeSqm3"
      },
      "execution_count": 11,
      "outputs": []
    },
    {
      "cell_type": "code",
      "source": [
        "with open(\"/tmp/.keras/datasets/PartAnnotation/metadata.json\") as json_file:\n",
        "    metadata = json.load(json_file)\n",
        "\n",
        "print(metadata)"
      ],
      "metadata": {
        "colab": {
          "base_uri": "https://localhost:8080/"
        },
        "id": "c21prubmS4i_",
        "outputId": "9192ddb1-ada9-4e0b-d145-28458e0b7572"
      },
      "execution_count": 12,
      "outputs": [
        {
          "output_type": "stream",
          "name": "stdout",
          "text": [
            "{'Building': {'directory': '12345678', 'lables': ['column', 'ground', 'roof', 'wall'], 'colors': ['blue', 'green', 'red', 'pink']}}\n"
          ]
        }
      ]
    },
    {
      "cell_type": "code",
      "source": [
        "points_dir = \"/tmp/.keras/datasets/PartAnnotation/{}/points\".format(\n",
        "    metadata[\"Building\"][\"directory\"]\n",
        ")\n",
        "labels_dir = \"/tmp/.keras/datasets/PartAnnotation/{}/points_label\".format(\n",
        "    metadata[\"Building\"][\"directory\"]\n",
        ")\n",
        "LABELS = metadata[\"Building\"][\"lables\"]\n",
        "COLORS = metadata[\"Building\"][\"colors\"]\n",
        "\n",
        "VAL_SPLIT = 0.2\n",
        "NUM_SAMPLE_POINTS = 1024\n",
        "BATCH_SIZE = 2\n",
        "EPOCHS = 10\n",
        "INITIAL_LR = 1e-3"
      ],
      "metadata": {
        "id": "ELMHlJJZV1sD"
      },
      "execution_count": 16,
      "outputs": []
    },
    {
      "cell_type": "code",
      "source": [
        "point_clouds, test_point_clouds = [], []\n",
        "point_cloud_labels, all_labels = [], []\n",
        "\n",
        "points_files = glob(os.path.join(points_dir, \"*.PTS\"))\n",
        "for point_file in tqdm(points_files):\n",
        "    point_cloud = np.loadtxt(point_file)\n",
        "    if point_cloud.shape[0] < NUM_SAMPLE_POINTS:\n",
        "        continue\n",
        "\n",
        "    # Get the file-id of the current point cloud for parsing its\n",
        "    # labels.\n",
        "    file_id = point_file.split(\"/\")[-1].split(\".\")[0]\n",
        "    label_data, num_labels = {}, 0\n",
        "    for label in LABELS:\n",
        "        label_file = os.path.join(labels_dir, label, file_id + \".SEG\")\n",
        "        if os.path.exists(label_file):\n",
        "            label_data[label] = np.loadtxt(label_file).astype(\"float32\")\n",
        "            num_labels = len(label_data[label])\n",
        "\n",
        "    # Point clouds having labels will be our training samples.\n",
        "    try:\n",
        "        label_map = [\"none\"] * num_labels\n",
        "        for label in LABELS:\n",
        "            for i, data in enumerate(label_data[label]):\n",
        "                label_map[i] = label if data == 1 else label_map[i]\n",
        "        label_data = [\n",
        "            LABELS.index(label) if label != \"none\" else len(LABELS)\n",
        "            for label in label_map\n",
        "        ]\n",
        "        # Apply one-hot encoding to the dense label representation.\n",
        "        label_data = keras.utils.to_categorical(label_data, num_classes=len(LABELS) + 1)\n",
        "\n",
        "        point_clouds.append(point_cloud)\n",
        "        point_cloud_labels.append(label_data)\n",
        "        all_labels.append(label_map)\n",
        "    except KeyError:\n",
        "        test_point_clouds.append(point_cloud)"
      ],
      "metadata": {
        "colab": {
          "base_uri": "https://localhost:8080/"
        },
        "id": "Myz08RnaV8aK",
        "outputId": "473d9315-be7c-449d-e3e0-6f805867f3f0"
      },
      "execution_count": 17,
      "outputs": [
        {
          "output_type": "stream",
          "name": "stderr",
          "text": [
            "0it [00:00, ?it/s]\n"
          ]
        }
      ]
    },
    {
      "cell_type": "code",
      "source": [
        "for _ in range(5):\n",
        "    i = random.randint(0, len(point_clouds) - 1)\n",
        "    print(f\"point_clouds[{i}].shape:\", point_clouds[0].shape)\n",
        "    print(f\"point_cloud_labels[{i}].shape:\", point_cloud_labels[0].shape)\n",
        "    for j in range(5):\n",
        "        print(\n",
        "            f\"all_labels[{i}][{j}]:\",\n",
        "            all_labels[i][j],\n",
        "            f\"\\tpoint_cloud_labels[{i}][{j}]:\",\n",
        "            point_cloud_labels[i][j],\n",
        "            \"\\n\",\n",
        "        )"
      ],
      "metadata": {
        "colab": {
          "base_uri": "https://localhost:8080/",
          "height": 380
        },
        "id": "u3dkDQU5XSfc",
        "outputId": "da2126eb-b547-4276-b3db-37faee91f7ee"
      },
      "execution_count": 18,
      "outputs": [
        {
          "output_type": "error",
          "ename": "ValueError",
          "evalue": "ignored",
          "traceback": [
            "\u001b[0;31m---------------------------------------------------------------------------\u001b[0m",
            "\u001b[0;31mValueError\u001b[0m                                Traceback (most recent call last)",
            "\u001b[0;32m<ipython-input-18-d183dbdb73dc>\u001b[0m in \u001b[0;36m<module>\u001b[0;34m()\u001b[0m\n\u001b[1;32m      1\u001b[0m \u001b[0;32mfor\u001b[0m \u001b[0m_\u001b[0m \u001b[0;32min\u001b[0m \u001b[0mrange\u001b[0m\u001b[0;34m(\u001b[0m\u001b[0;36m5\u001b[0m\u001b[0;34m)\u001b[0m\u001b[0;34m:\u001b[0m\u001b[0;34m\u001b[0m\u001b[0;34m\u001b[0m\u001b[0m\n\u001b[0;32m----> 2\u001b[0;31m     \u001b[0mi\u001b[0m \u001b[0;34m=\u001b[0m \u001b[0mrandom\u001b[0m\u001b[0;34m.\u001b[0m\u001b[0mrandint\u001b[0m\u001b[0;34m(\u001b[0m\u001b[0;36m0\u001b[0m\u001b[0;34m,\u001b[0m \u001b[0mlen\u001b[0m\u001b[0;34m(\u001b[0m\u001b[0mpoint_clouds\u001b[0m\u001b[0;34m)\u001b[0m \u001b[0;34m-\u001b[0m \u001b[0;36m1\u001b[0m\u001b[0;34m)\u001b[0m\u001b[0;34m\u001b[0m\u001b[0;34m\u001b[0m\u001b[0m\n\u001b[0m\u001b[1;32m      3\u001b[0m     \u001b[0mprint\u001b[0m\u001b[0;34m(\u001b[0m\u001b[0;34mf\"point_clouds[{i}].shape:\"\u001b[0m\u001b[0;34m,\u001b[0m \u001b[0mpoint_clouds\u001b[0m\u001b[0;34m[\u001b[0m\u001b[0;36m0\u001b[0m\u001b[0;34m]\u001b[0m\u001b[0;34m.\u001b[0m\u001b[0mshape\u001b[0m\u001b[0;34m)\u001b[0m\u001b[0;34m\u001b[0m\u001b[0;34m\u001b[0m\u001b[0m\n\u001b[1;32m      4\u001b[0m     \u001b[0mprint\u001b[0m\u001b[0;34m(\u001b[0m\u001b[0;34mf\"point_cloud_labels[{i}].shape:\"\u001b[0m\u001b[0;34m,\u001b[0m \u001b[0mpoint_cloud_labels\u001b[0m\u001b[0;34m[\u001b[0m\u001b[0;36m0\u001b[0m\u001b[0;34m]\u001b[0m\u001b[0;34m.\u001b[0m\u001b[0mshape\u001b[0m\u001b[0;34m)\u001b[0m\u001b[0;34m\u001b[0m\u001b[0;34m\u001b[0m\u001b[0m\n\u001b[1;32m      5\u001b[0m     \u001b[0;32mfor\u001b[0m \u001b[0mj\u001b[0m \u001b[0;32min\u001b[0m \u001b[0mrange\u001b[0m\u001b[0;34m(\u001b[0m\u001b[0;36m5\u001b[0m\u001b[0;34m)\u001b[0m\u001b[0;34m:\u001b[0m\u001b[0;34m\u001b[0m\u001b[0;34m\u001b[0m\u001b[0m\n",
            "\u001b[0;32m/usr/lib/python3.7/random.py\u001b[0m in \u001b[0;36mrandint\u001b[0;34m(self, a, b)\u001b[0m\n\u001b[1;32m    220\u001b[0m         \"\"\"\n\u001b[1;32m    221\u001b[0m \u001b[0;34m\u001b[0m\u001b[0m\n\u001b[0;32m--> 222\u001b[0;31m         \u001b[0;32mreturn\u001b[0m \u001b[0mself\u001b[0m\u001b[0;34m.\u001b[0m\u001b[0mrandrange\u001b[0m\u001b[0;34m(\u001b[0m\u001b[0ma\u001b[0m\u001b[0;34m,\u001b[0m \u001b[0mb\u001b[0m\u001b[0;34m+\u001b[0m\u001b[0;36m1\u001b[0m\u001b[0;34m)\u001b[0m\u001b[0;34m\u001b[0m\u001b[0;34m\u001b[0m\u001b[0m\n\u001b[0m\u001b[1;32m    223\u001b[0m \u001b[0;34m\u001b[0m\u001b[0m\n\u001b[1;32m    224\u001b[0m     def _randbelow(self, n, int=int, maxsize=1<<BPF, type=type,\n",
            "\u001b[0;32m/usr/lib/python3.7/random.py\u001b[0m in \u001b[0;36mrandrange\u001b[0;34m(self, start, stop, step, _int)\u001b[0m\n\u001b[1;32m    198\u001b[0m             \u001b[0;32mreturn\u001b[0m \u001b[0mistart\u001b[0m \u001b[0;34m+\u001b[0m \u001b[0mself\u001b[0m\u001b[0;34m.\u001b[0m\u001b[0m_randbelow\u001b[0m\u001b[0;34m(\u001b[0m\u001b[0mwidth\u001b[0m\u001b[0;34m)\u001b[0m\u001b[0;34m\u001b[0m\u001b[0;34m\u001b[0m\u001b[0m\n\u001b[1;32m    199\u001b[0m         \u001b[0;32mif\u001b[0m \u001b[0mstep\u001b[0m \u001b[0;34m==\u001b[0m \u001b[0;36m1\u001b[0m\u001b[0;34m:\u001b[0m\u001b[0;34m\u001b[0m\u001b[0;34m\u001b[0m\u001b[0m\n\u001b[0;32m--> 200\u001b[0;31m             \u001b[0;32mraise\u001b[0m \u001b[0mValueError\u001b[0m\u001b[0;34m(\u001b[0m\u001b[0;34m\"empty range for randrange() (%d,%d, %d)\"\u001b[0m \u001b[0;34m%\u001b[0m \u001b[0;34m(\u001b[0m\u001b[0mistart\u001b[0m\u001b[0;34m,\u001b[0m \u001b[0mistop\u001b[0m\u001b[0;34m,\u001b[0m \u001b[0mwidth\u001b[0m\u001b[0;34m)\u001b[0m\u001b[0;34m)\u001b[0m\u001b[0;34m\u001b[0m\u001b[0;34m\u001b[0m\u001b[0m\n\u001b[0m\u001b[1;32m    201\u001b[0m \u001b[0;34m\u001b[0m\u001b[0m\n\u001b[1;32m    202\u001b[0m         \u001b[0;31m# Non-unit step argument supplied.\u001b[0m\u001b[0;34m\u001b[0m\u001b[0;34m\u001b[0m\u001b[0;34m\u001b[0m\u001b[0m\n",
            "\u001b[0;31mValueError\u001b[0m: empty range for randrange() (0,0, 0)"
          ]
        }
      ]
    }
  ]
}